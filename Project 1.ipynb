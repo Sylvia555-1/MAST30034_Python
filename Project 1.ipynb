{
 "cells": [
  {
   "metadata": {
    "ExecuteTime": {
     "end_time": "2025-08-07T06:43:13.722157Z",
     "start_time": "2025-08-07T06:43:13.716377Z"
    }
   },
   "cell_type": "code",
   "source": "print(\"hello\")",
   "id": "b2695b478005e90b",
   "outputs": [
    {
     "name": "stdout",
     "output_type": "stream",
     "text": [
      "hello\n"
     ]
    }
   ],
   "execution_count": 1
  },
  {
   "metadata": {},
   "cell_type": "code",
   "outputs": [],
   "execution_count": null,
   "source": "",
   "id": "fbe72b6c84c6c03"
  }
 ],
 "metadata": {
  "kernelspec": {
   "name": "python3",
   "language": "python",
   "display_name": "Python 3 (ipykernel)"
  }
 },
 "nbformat": 4,
 "nbformat_minor": 5
}
